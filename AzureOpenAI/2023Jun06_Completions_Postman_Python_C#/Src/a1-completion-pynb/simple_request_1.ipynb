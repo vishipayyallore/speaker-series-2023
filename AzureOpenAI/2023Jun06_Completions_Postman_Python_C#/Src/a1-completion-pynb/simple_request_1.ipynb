{
 "cells": [
  {
   "cell_type": "code",
   "execution_count": 2,
   "metadata": {},
   "outputs": [
    {
     "name": "stdout",
     "output_type": "stream",
     "text": [
      "Tell me two jokes on intelligent people\n",
      "\n",
      "Q: What did the smart mathematician name his dog?\n",
      "A: Cauchy!\n",
      "\n",
      "Q: What did the smart physicist name his cat?\n",
      "A: Schrödinger!\n"
     ]
    }
   ],
   "source": [
    "import openai\n",
    "import requests\n",
    "\n",
    "# Load config values\n",
    "from dotenv import dotenv_values\n",
    "config_details = dotenv_values(\".env\")\n",
    "\n",
    "# Setting up the deployment name\n",
    "deployment_name = config_details['COMPLETIONS_MODEL']\n",
    "\n",
    "# The base URL for your Azure OpenAI resource. e.g. \"https://<your resource name>.openai.azure.com\"\n",
    "openai.api_base = config_details['OPENAI_API_BASE']\n",
    "\n",
    "# The API key for your Azure OpenAI resource.\n",
    "openai.api_key = config_details[\"OPENAI_API_KEY\"]\n",
    "# print(openai.api_key)\n",
    "\n",
    "# Currently OPENAI API have the following versions available: 2022-12-01. All versions follow the YYYY-MM-DD date structure.\n",
    "openai.api_version = config_details['OPENAI_API_VERSION']\n",
    "\n",
    "# Request URL\n",
    "api_url = f\"{openai.api_base}/openai/deployments/{deployment_name}/completions?api-version={openai.api_version}\"\n",
    "# print(api_url)\n",
    "\n",
    "# Example prompt for request payload\n",
    "prompt = \"Tell me two jokes on intelligent people\"\n",
    "\n",
    "# Json payload\n",
    "# To know more about the parameters, checkout this documentation: https://learn.microsoft.com/en-us/azure/cognitive-services/openai/reference\n",
    "json_data = {\n",
    "    \"prompt\": prompt,\n",
    "    \"temperature\": 0,\n",
    "    \"max_tokens\": 100,\n",
    "    \"echo\": True,\n",
    "}\n",
    "\n",
    "# Including the api-key in HTTP headers\n",
    "headers = {\"api-key\": openai.api_key}\n",
    "\n",
    "try:\n",
    "    # Request for creating a completion for the provided prompt and parameters\n",
    "    response = requests.post(api_url, json=json_data, headers=headers)\n",
    "    completion = response.json()\n",
    "\n",
    "    # print the completion\n",
    "    print(completion['choices'][0]['text'])\n",
    "\n",
    "    # Here indicating if the response is filtered\n",
    "    if completion['choices'][0]['finish_reason'] == \"content_filter\":\n",
    "        print(\"The generated content is filtered.\")\n",
    "except:\n",
    "    print(\"An exception has occurred. \\n\")\n",
    "    print(\"Error Message:\", completion['error']['message'])\n"
   ]
  }
 ],
 "metadata": {
  "kernelspec": {
   "display_name": "pvenv",
   "language": "python",
   "name": "python3"
  },
  "language_info": {
   "codemirror_mode": {
    "name": "ipython",
    "version": 3
   },
   "file_extension": ".py",
   "mimetype": "text/x-python",
   "name": "python",
   "nbconvert_exporter": "python",
   "pygments_lexer": "ipython3",
   "version": "3.11.1"
  },
  "orig_nbformat": 4
 },
 "nbformat": 4,
 "nbformat_minor": 2
}
